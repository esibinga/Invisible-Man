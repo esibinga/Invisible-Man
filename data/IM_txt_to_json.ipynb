{
 "cells": [
  {
   "cell_type": "markdown",
   "metadata": {},
   "source": [
    "The goal of this notebook is to transform the .txt file of Invisible Man to a .JSON file with [key, value] pairs of [token value, token]."
   ]
  },
  {
   "cell_type": "code",
   "execution_count": 49,
   "metadata": {},
   "outputs": [],
   "source": [
    "import nltk\n",
    "from nltk.tokenize import sent_tokenize\n",
    "from nltk.probability import FreqDist\n",
    "#nltk.download('punkt')\n",
    "#import pandas as pd"
   ]
  },
  {
   "cell_type": "code",
   "execution_count": 15,
   "metadata": {},
   "outputs": [],
   "source": [
    "IM = open('invisible_man.txt') #makes an IO.text wrapper\n",
    "IM_text = IM.read() #makes a readable string"
   ]
  },
  {
   "cell_type": "code",
   "execution_count": 34,
   "metadata": {},
   "outputs": [
    {
     "name": "stdout",
     "output_type": "stream",
     "text": [
      "Invisible Man\n",
      "by Ralph Ellison\n",
      "TO IDA\n",
      "COPYRIGHT, 1947, 1948, 1952, BY RALPH ELLISON\n",
      "All rights reserved under International\n",
      "and Pan-American Copyright Conventions.\n",
      "For information address Random House, Inc.,\n",
      "457 Madison Avenue, New York, New York 10022.\n",
      "This is an authorized reprint of a hardcover edition\n",
      "published by Random House, Inc.\n",
      "THIRTEENTH PRINTING\n",
      "SIGNET BOOKS are published by\n",
      "The New American Library, Inc.,\n",
      "1301 Avenue of the Americas, New York, New York 10019\n",
      "PRINTED IN THE UNITED STATES OF AMERICA\n",
      "\"You are saved,\" cried Captain Delano, more and more astonished and pained;\n",
      "\"you are \n"
     ]
    }
   ],
   "source": [
    "print(IM_text[:600])"
   ]
  },
  {
   "cell_type": "code",
   "execution_count": 35,
   "metadata": {},
   "outputs": [],
   "source": [
    "IM_tokens = nltk.word_tokenize(IM_text)"
   ]
  },
  {
   "cell_type": "code",
   "execution_count": 37,
   "metadata": {},
   "outputs": [
    {
     "data": {
      "text/plain": [
       "['Invisible',\n",
       " 'Man',\n",
       " 'by',\n",
       " 'Ralph',\n",
       " 'Ellison',\n",
       " 'TO',\n",
       " 'IDA',\n",
       " 'COPYRIGHT',\n",
       " ',',\n",
       " '1947']"
      ]
     },
     "execution_count": 37,
     "metadata": {},
     "output_type": "execute_result"
    }
   ],
   "source": [
    "IM_tokens[:10]"
   ]
  },
  {
   "cell_type": "code",
   "execution_count": 38,
   "metadata": {},
   "outputs": [],
   "source": [
    "text1 = nltk.Text(IM_tokens)"
   ]
  },
  {
   "cell_type": "code",
   "execution_count": 40,
   "metadata": {},
   "outputs": [
    {
     "data": {
      "text/plain": [
       "219707"
      ]
     },
     "execution_count": 40,
     "metadata": {},
     "output_type": "execute_result"
    }
   ],
   "source": [
    "len(text1)"
   ]
  },
  {
   "cell_type": "code",
   "execution_count": 48,
   "metadata": {},
   "outputs": [
    {
     "data": {
      "text/plain": [
       "['Chapter', '0', 'I', 'am', 'an', 'invisible', 'man', '.']"
      ]
     },
     "execution_count": 48,
     "metadata": {},
     "output_type": "execute_result"
    }
   ],
   "source": [
    "text1[190:198]"
   ]
  },
  {
   "cell_type": "code",
   "execution_count": 31,
   "metadata": {},
   "outputs": [
    {
     "name": "stdout",
     "output_type": "stream",
     "text": [
      "<FreqDist with 13052 samples and 219707 outcomes>\n"
     ]
    }
   ],
   "source": [
    "fdist = FreqDist(tokens)\n",
    "print(fdist)"
   ]
  },
  {
   "cell_type": "code",
   "execution_count": 53,
   "metadata": {},
   "outputs": [
    {
     "name": "stdout",
     "output_type": "stream",
     "text": [
      "Displaying 25 of 54 matches:\n",
      " Invisible Man by Ralph Ellison TO IDA COPYRI\n",
      ", Family Reunion Chapter 0 I am an invisible man . No , I am not a spook like t\n",
      "n be said to possess a mind . I am invisible , understand , simply because peop\n",
      " sincere compassion , mugged by an invisible man ! Most of the time ( although \n",
      "tly violent . I remember that I am invisible and walk softly so as not to awake\n",
      " discovered the advantage of being invisible ) I went through the routine proce\n",
      "rect to assume that , because I 'm invisible and live in a hole , I am dead . I\n",
      "s you 'll think it strange that an invisible man should need light , desire lig\n",
      "t maybe it is exactly because I am invisible . Light confirms my reality , give\n",
      "h me . Without light I am not only invisible , but formless as well ; and to be\n",
      "n't know . Yet when you have lived invisible as long as I have you develop a ce\n",
      " gadget to warm his shoes ! Though invisible , I am in the great American tradi\n",
      "use he 's made poetry out of being invisible . I think it must be because he 's\n",
      "e because he 's unaware that he is invisible . And my own grasp of invisibility\n",
      "ngely satisfying experience for an invisible man to hear the silence of sound .\n",
      "( that is not unusual when you are invisible ) . But to hear around them is too\n",
      "and vice versa . And so I play the invisible music of my isolation . The last s\n",
      " must pay the price , and even the invisible victim is responsible for the fate\n",
      "rst I had to discover that I am an invisible man ! And yet I am no freak of nat\n",
      "ould it have been real if now I am invisible ? If real , why is it that I can r\n",
      "ung up and out as though linked by invisible strings . Waves of heat danced abo\n",
      "ng through the noise as through an invisible wall . `` Halley ! Help me , he 's\n",
      " emotions but his humanity . He 's invisible , a walking personification of the\n",
      "gh he had given a downbeat with an invisible baton . The organist turned and hu\n",
      "minous seeds flung broadside by an invisible hand . Several cars rolled by . I \n"
     ]
    }
   ],
   "source": [
    "text1.concordance(\"invisible\")"
   ]
  },
  {
   "cell_type": "code",
   "execution_count": 58,
   "metadata": {},
   "outputs": [
    {
     "data": {
      "image/png": "[encoded data removed]",
      "text/plain": [
       "<Figure size 432x288 with 1 Axes>"
      ]
     },
     "metadata": {
      "needs_background": "light"
     },
     "output_type": "display_data"
    }
   ],
   "source": [
    "text1.dispersion_plot(['invisible'])"
   ]
  },
  {
   "cell_type": "code",
   "execution_count": 32,
   "metadata": {},
   "outputs": [
    {
     "data": {
      "text/plain": [
       "[(',', 12588), ('.', 12393), ('the', 8529), ('I', 7551), ('and', 5303)]"
      ]
     },
     "execution_count": 32,
     "metadata": {},
     "output_type": "execute_result"
    }
   ],
   "source": [
    "fdist.most_common(5)"
   ]
  },
  {
   "cell_type": "markdown",
   "metadata": {},
   "source": [
    "0. clean text data to remove punctuation and metadata\n",
    "1. Make python dict (csv?) with word tokens and index number\n",
    "2. turn python dict to json file"
   ]
  },
  {
   "cell_type": "code",
   "execution_count": null,
   "metadata": {},
   "outputs": [],
   "source": []
  },
  {
   "cell_type": "code",
   "execution_count": null,
   "metadata": {},
   "outputs": [],
   "source": []
  }
 ],
 "metadata": {
  "kernelspec": {
   "display_name": "Python 3",
   "language": "python",
   "name": "python3"
  },
  "language_info": {
   "codemirror_mode": {
    "name": "ipython",
    "version": 3
   },
   "file_extension": ".py",
   "mimetype": "text/x-python",
   "name": "python",
   "nbconvert_exporter": "python",
   "pygments_lexer": "ipython3",
   "version": "3.7.3"
  }
 },
 "nbformat": 4,
 "nbformat_minor": 2
}
